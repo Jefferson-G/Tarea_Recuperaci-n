{
  "cells": [
    {
      "cell_type": "code",
      "execution_count": 22,
      "id": "897f6b27",
      "metadata": {
        "id": "897f6b27"
      },
      "outputs": [],
      "source": [
        "#librerias\n",
        "import pandas as pd\n",
        "from datetime import datetime\n",
        "from sqlalchemy import create_engine\n",
        "import psycopg2"
      ]
    },
    {
      "cell_type": "code",
      "execution_count": 24,
      "id": "4ebe951f",
      "metadata": {
        "id": "4ebe951f"
      },
      "outputs": [],
      "source": [
        "def log(logfile, message):\n",
        "    timestamp_format = '%H:%M:%S-%h-%d-%Y'\n",
        "    #Hour-Minute-Second-MonthName-Day-Year\n",
        "    now = datetime.now() # get current timestamp\n",
        "    timestamp = now.strftime(timestamp_format)\n",
        "    with open(logfile,\"a\") as f: \n",
        "        f.write('[' + timestamp + ']: ' + message + '\\n')\n",
        "        print(message)\n"
      ]
    },
    {
      "cell_type": "code",
      "execution_count": 25,
      "id": "3878f188",
      "metadata": {
        "id": "3878f188"
      },
      "outputs": [],
      "source": [
        "def transform():\n",
        "    df = pd.read_csv('Building_Permits.csv')\n",
        "    df=df.fillna(\"N/A\")\n",
        "    df=df.drop_duplicates()\n",
        "    df['Permit Type Definition'] = df['Permit Type Definition'].str.upper()\n",
        "    df['Description'] = df['Description'].str.upper()\n",
        "    df['Current Status'] = df['Current Status'].str.upper()\n",
        "    df['Street Name'] = df['Current Status'].str.upper()\n",
        "    df['Street Suffix'] = df['Current Status'].str.upper()\n",
        "    df['Existing Use'] = df['Existing Use'].str.upper()\n",
        "    df['Proposed Use'] = df['Existing Use'].str.upper()\n",
        "    df['Existing Construction Type Description'] = df['Existing Construction Type Description'].str.upper()\n",
        "    df['Proposed Construction Type Description'] = df['Proposed Construction Type Description'].str.upper()\n",
        "    df['Neighborhoods - Analysis Boundaries'] = df['Neighborhoods - Analysis Boundaries'].str.upper()\n",
        "    df.to_csv(\"Building_Permits_Limpio.csv\")\n",
        "\n",
        "    "
      ]
    },
    {
      "cell_type": "code",
      "execution_count": 26,
      "id": "8e1eb443",
      "metadata": {
        "id": "8e1eb443"
      },
      "outputs": [],
      "source": [
        "def load():\n",
        "    df_clean = pd.read_csv('Building_Permits_Limpio.csv')\n",
        "\n"
      ]
    },
    {
      "cell_type": "code",
      "source": [
        "if __name__ == '__main__':\n",
        "    \n",
        "    logfile = \"ProcesoETL_logfile.txt\"\n",
        "    log(logfile, \"ETL Trabajo iniciado.\")\n",
        "    transform()\n",
        "    load()\n",
        "    log(logfile, \"ETL Trabajo finalizado.\")"
      ],
      "metadata": {
        "colab": {
          "base_uri": "https://localhost:8080/"
        },
        "id": "KVHGCt8Tijz1",
        "outputId": "14392406-e8ea-4e16-e0a1-4c1bdd0d044f"
      },
      "id": "KVHGCt8Tijz1",
      "execution_count": 27,
      "outputs": [
        {
          "output_type": "stream",
          "name": "stdout",
          "text": [
            "ETL Trabajo iniciado.\n"
          ]
        },
        {
          "output_type": "stream",
          "name": "stderr",
          "text": [
            "/usr/local/lib/python3.7/dist-packages/ipykernel_launcher.py:5: DtypeWarning: Columns (22,32) have mixed types.Specify dtype option on import or set low_memory=False.\n",
            "  \"\"\"\n"
          ]
        },
        {
          "output_type": "stream",
          "name": "stdout",
          "text": [
            "ETL Trabajo finalizado.\n"
          ]
        },
        {
          "output_type": "stream",
          "name": "stderr",
          "text": [
            "/usr/local/lib/python3.7/dist-packages/ipykernel_launcher.py:6: DtypeWarning: Columns (23,33) have mixed types.Specify dtype option on import or set low_memory=False.\n",
            "  \n"
          ]
        }
      ]
    }
  ],
  "metadata": {
    "kernelspec": {
      "display_name": "Python 3",
      "language": "python",
      "name": "python3"
    },
    "language_info": {
      "codemirror_mode": {
        "name": "ipython",
        "version": 3
      },
      "file_extension": ".py",
      "mimetype": "text/x-python",
      "name": "python",
      "nbconvert_exporter": "python",
      "pygments_lexer": "ipython3",
      "version": "3.6.10"
    },
    "colab": {
      "name": "[NRC_8903]_JeffersonGuamán_TareaRecuperación_ETL_Limpieza_DataSet.ipynb",
      "provenance": [],
      "collapsed_sections": []
    }
  },
  "nbformat": 4,
  "nbformat_minor": 5
}